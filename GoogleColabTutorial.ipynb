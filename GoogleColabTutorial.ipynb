{
  "nbformat": 4,
  "nbformat_minor": 0,
  "metadata": {
    "colab": {
      "name": "GoogleColabTutorial.ipynb",
      "provenance": [],
      "authorship_tag": "ABX9TyM99px5lo9jHUoz3u7yL/9Z",
      "include_colab_link": true
    },
    "kernelspec": {
      "name": "python3",
      "display_name": "Python 3"
    },
    "language_info": {
      "name": "python"
    }
  },
  "cells": [
    {
      "cell_type": "markdown",
      "metadata": {
        "id": "view-in-github",
        "colab_type": "text"
      },
      "source": [
        "<a href=\"https://colab.research.google.com/github/eviemeg/GoogleColabTut/blob/main/GoogleColabTutorial.ipynb\" target=\"_parent\"><img src=\"https://colab.research.google.com/assets/colab-badge.svg\" alt=\"Open In Colab\"/></a>"
      ]
    },
    {
      "cell_type": "code",
      "source": [
        "time.sleep(5)\n",
        "print (time.ctime())"
      ],
      "metadata": {
        "colab": {
          "base_uri": "https://localhost:8080/"
        },
        "id": "gmCNGWh-p1Ii",
        "outputId": "36aeeff0-8111-4fea-fa77-3e1b6b2dbd8e"
      },
      "execution_count": null,
      "outputs": [
        {
          "output_type": "stream",
          "name": "stdout",
          "text": [
            "Mon Jul 25 00:00:42 2022\n"
          ]
        }
      ]
    },
    {
      "cell_type": "code",
      "execution_count": null,
      "metadata": {
        "colab": {
          "base_uri": "https://localhost:8080/"
        },
        "id": "R6wIjAvGpeoc",
        "outputId": "93c3b376-ffa4-4291-bcb3-7d8a338f7674"
      },
      "outputs": [
        {
          "output_type": "stream",
          "name": "stdout",
          "text": [
            "Mon Jul 25 00:00:37 2022\n"
          ]
        }
      ],
      "source": [
        "import time\n",
        "print(time.ctime())"
      ]
    },
    {
      "cell_type": "markdown",
      "source": [
        "This is **bold**.\n",
        "This is *italic*.\n",
        "This is ~strikethrough~."
      ],
      "metadata": {
        "id": "D3vuvFsjqHAP"
      }
    },
    {
      "cell_type": "markdown",
      "source": [
        "$\\sqrt{3x-1}+(1+x)^2$"
      ],
      "metadata": {
        "id": "Qpc_HoxKqJxT"
      }
    },
    {
      "cell_type": "markdown",
      "source": [
        "Constraints are\n",
        "- $3x_1 + 6x_2 + x_3 =< 28$\n",
        "- $7x_1 + 3x_2 + 2x_3 =< 37$\n",
        "- $4x_1 + 5x_2 + 2x_3 =< 19$\n",
        "- $x_1,x_2,x_3 >=0 $\n",
        "\n",
        "The trial vector is calculated as follows:\n",
        "- $u_i(t) = x_i(t) + \\beta(\\hat{x}(t) − x_i(t)) + \\beta \\sum_{k = 1}^{n_v}(x_{i1,k}(t) − x_{i2,k}(t))$\n",
        "$f(x_1, x_2) = 20 + e - 20exp(-0.2 \\sqrt {\\frac {1}{n} (x_1^2 + x_2^2)}) - exp (\\frac {1}{n}(cos(2\\pi x_1) + cos(2\\pi x_2))$\n",
        "\n",
        "$x ∈ [-5, 5]$\n",
        ">$A_{m,n} =\n",
        "\\begin{pmatrix}\n",
        "a_{1,1} > a_{1,2} > \\cdots > a_{1,n} \\\\\n",
        "a_{2,1} > a_{2,2} > \\cdots > a_{2,n} \\\\\n",
        "\\vdots > \\vdots > \\ddots > \\vdots \\\\\n",
        "a_{m,1} > a_{m,2} > \\cdots > a_{m,n}\n",
        "\\end{pmatrix}$"
      ],
      "metadata": {
        "id": "yRtuNlWJqRr8"
      }
    }
  ]
}